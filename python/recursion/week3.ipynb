{
 "cells": [
  {
   "cell_type": "code",
   "execution_count": 5,
   "metadata": {},
   "outputs": [
    {
     "name": "stdout",
     "output_type": "stream",
     "text": [
      "1 day has 86400 secs;\n",
      "1 year has 31557600.0 secs.\n"
     ]
    }
   ],
   "source": [
    "d = 365.25\n",
    "h = 24\n",
    "m = 60\n",
    "s = 60\n",
    "print('1 day has {} secs;\\n1 year has {} secs.'.format(h*m*s, d*h*m*s))"
   ]
  },
  {
   "cell_type": "code",
   "execution_count": 11,
   "metadata": {},
   "outputs": [],
   "source": [
    "a = (3,4,5)"
   ]
  },
  {
   "cell_type": "code",
   "execution_count": 12,
   "metadata": {},
   "outputs": [
    {
     "data": {
      "text/plain": [
       "tuple"
      ]
     },
     "execution_count": 12,
     "metadata": {},
     "output_type": "execute_result"
    }
   ],
   "source": [
    "type(a)"
   ]
  },
  {
   "cell_type": "code",
   "execution_count": 13,
   "metadata": {},
   "outputs": [],
   "source": [
    "b=[1,2,3]"
   ]
  },
  {
   "cell_type": "code",
   "execution_count": 14,
   "metadata": {},
   "outputs": [
    {
     "data": {
      "text/plain": [
       "list"
      ]
     },
     "execution_count": 14,
     "metadata": {},
     "output_type": "execute_result"
    }
   ],
   "source": [
    "type(b)"
   ]
  },
  {
   "cell_type": "code",
   "execution_count": 22,
   "metadata": {},
   "outputs": [
    {
     "name": "stdout",
     "output_type": "stream",
     "text": [
      "1 2 3\n"
     ]
    }
   ],
   "source": [
    "print(*b)"
   ]
  },
  {
   "cell_type": "code",
   "execution_count": 23,
   "metadata": {},
   "outputs": [
    {
     "data": {
      "text/plain": [
       "'{}{}{}'"
      ]
     },
     "execution_count": 23,
     "metadata": {},
     "output_type": "execute_result"
    }
   ],
   "source": [
    "\"{}\"*3"
   ]
  },
  {
   "cell_type": "code",
   "execution_count": 25,
   "metadata": {},
   "outputs": [
    {
     "data": {
      "text/plain": [
       "'1+2=3'"
      ]
     },
     "execution_count": 25,
     "metadata": {},
     "output_type": "execute_result"
    }
   ],
   "source": [
    "'{}+{}={}'.format(*b)"
   ]
  },
  {
   "cell_type": "code",
   "execution_count": 30,
   "metadata": {},
   "outputs": [],
   "source": [
    "# using loop\n",
    "def myprint(a):\n",
    "    for i in a:\n",
    "        print(i, end='-=-')"
   ]
  },
  {
   "cell_type": "code",
   "execution_count": 31,
   "metadata": {},
   "outputs": [
    {
     "name": "stdout",
     "output_type": "stream",
     "text": [
      "1-=-2-=-3-=-7-=-"
     ]
    }
   ],
   "source": [
    "myprint([1, 2, 3, 7])"
   ]
  },
  {
   "cell_type": "code",
   "execution_count": 34,
   "metadata": {},
   "outputs": [],
   "source": [
    "def _myprint2(a, n):\n",
    "    if n==0: return\n",
    "    _myprint2(a, n-1)\n",
    "    print(a[n-1], end=' ')\n",
    "    \n",
    "def myprint2(a):\n",
    "    _myprint2(a, len(a))"
   ]
  },
  {
   "cell_type": "code",
   "execution_count": 35,
   "metadata": {},
   "outputs": [
    {
     "name": "stdout",
     "output_type": "stream",
     "text": [
      "1 2 3 7 "
     ]
    }
   ],
   "source": [
    "myprint2([1, 2, 3, 7])"
   ]
  },
  {
   "cell_type": "code",
   "execution_count": 36,
   "metadata": {},
   "outputs": [],
   "source": [
    "def _myprint3(a, k, m):\n",
    "    if k>m: return\n",
    "    print(a[k], end=' ')\n",
    "    _myprint3(a, k+1, m)\n",
    "    \n",
    "def myprint3(a):\n",
    "    _myprint3(a, 0, len(a)-1)"
   ]
  },
  {
   "cell_type": "code",
   "execution_count": 40,
   "metadata": {},
   "outputs": [
    {
     "name": "stdout",
     "output_type": "stream",
     "text": [
      "1 2 3 4 5 6 7 8 9 10 "
     ]
    }
   ],
   "source": [
    "myprint3(list(range(1,11)))"
   ]
  },
  {
   "cell_type": "code",
   "execution_count": 59,
   "metadata": {},
   "outputs": [],
   "source": [
    "# def f(n):\n",
    "#     if n==0: return 1\n",
    "#     return f(n-1)*n\n",
    "def f(n):    \n",
    "    return 1 if n==0 else f(n-1)*n"
   ]
  },
  {
   "cell_type": "code",
   "execution_count": 58,
   "metadata": {},
   "outputs": [],
   "source": [
    "# def gcd(m, n):\n",
    "#     if n==0: return m\n",
    "#     return gcd(n, m%n)\n",
    "def gcd(m, n):   \n",
    "    return m if n==0 else gcd(n, m%n)"
   ]
  },
  {
   "cell_type": "code",
   "execution_count": 56,
   "metadata": {},
   "outputs": [],
   "source": [
    "def _f2(k, n):\n",
    "    if k==n:\n",
    "        return k\n",
    "    else:\n",
    "        return k*_f2(k+1, n)\n",
    "    \n",
    "def f2(n):\n",
    "    return _f2(1, n)"
   ]
  },
  {
   "cell_type": "code",
   "execution_count": 57,
   "metadata": {},
   "outputs": [
    {
     "data": {
      "text/plain": [
       "3628800"
      ]
     },
     "execution_count": 57,
     "metadata": {},
     "output_type": "execute_result"
    }
   ],
   "source": [
    "f2(10)"
   ]
  },
  {
   "cell_type": "code",
   "execution_count": 80,
   "metadata": {},
   "outputs": [],
   "source": [
    "def _perm(a, k, m):\n",
    "    if k==m:\n",
    "        print(a)\n",
    "        return 1\n",
    "    else:\n",
    "        t = 0\n",
    "        for i in range(k, m+1):\n",
    "            a[i], a[k] = a[k], a[i]\n",
    "            t += _perm(a, k+1, m)\n",
    "            a[i], a[k] = a[k], a[i]\n",
    "        return t\n",
    "    \n",
    "def perm(a):\n",
    "    return _perm(a, 0, len(a)-1)\n"
   ]
  },
  {
   "cell_type": "code",
   "execution_count": 85,
   "metadata": {},
   "outputs": [
    {
     "name": "stdout",
     "output_type": "stream",
     "text": [
      "['a', 'b', 'c', 'd']\n",
      "['a', 'b', 'd', 'c']\n",
      "['a', 'c', 'b', 'd']\n",
      "['a', 'c', 'd', 'b']\n",
      "['a', 'd', 'c', 'b']\n",
      "['a', 'd', 'b', 'c']\n",
      "['b', 'a', 'c', 'd']\n",
      "['b', 'a', 'd', 'c']\n",
      "['b', 'c', 'a', 'd']\n",
      "['b', 'c', 'd', 'a']\n",
      "['b', 'd', 'c', 'a']\n",
      "['b', 'd', 'a', 'c']\n",
      "['c', 'b', 'a', 'd']\n",
      "['c', 'b', 'd', 'a']\n",
      "['c', 'a', 'b', 'd']\n",
      "['c', 'a', 'd', 'b']\n",
      "['c', 'd', 'a', 'b']\n",
      "['c', 'd', 'b', 'a']\n",
      "['d', 'b', 'c', 'a']\n",
      "['d', 'b', 'a', 'c']\n",
      "['d', 'c', 'b', 'a']\n",
      "['d', 'c', 'a', 'b']\n",
      "['d', 'a', 'c', 'b']\n",
      "['d', 'a', 'b', 'c']\n",
      "total 24 arrangements.\n"
     ]
    }
   ],
   "source": [
    "n=perm([chr(i) for i in range(ord('a'), ord('d')+1)])\n",
    "print('total {} arrangements.'.format(n))"
   ]
  },
  {
   "cell_type": "code",
   "execution_count": null,
   "metadata": {},
   "outputs": [],
   "source": []
  }
 ],
 "metadata": {
  "kernelspec": {
   "display_name": "Python 3",
   "language": "python",
   "name": "python3"
  },
  "language_info": {
   "codemirror_mode": {
    "name": "ipython",
    "version": 3
   },
   "file_extension": ".py",
   "mimetype": "text/x-python",
   "name": "python",
   "nbconvert_exporter": "python",
   "pygments_lexer": "ipython3",
   "version": "3.6.3"
  }
 },
 "nbformat": 4,
 "nbformat_minor": 2
}
