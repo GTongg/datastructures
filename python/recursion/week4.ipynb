{
 "cells": [
  {
   "cell_type": "code",
   "execution_count": 2,
   "metadata": {},
   "outputs": [],
   "source": [
    "def sum(n0, n1):\n",
    "    if n0==n1: return n0\n",
    "    return sum(n0, (n0+n1)//2) + sum((n0+n1)//2+1, n1)"
   ]
  },
  {
   "cell_type": "code",
   "execution_count": 3,
   "metadata": {},
   "outputs": [
    {
     "name": "stdout",
     "output_type": "stream",
     "text": [
      "result: 50005000, time elapsed: 0.004003763198852539\n"
     ]
    }
   ],
   "source": [
    "from time import time as T\n",
    "s = T()\n",
    "total = sum(1, 10000)\n",
    "e = T()\n",
    "print('result: {}, time elapsed: {}'.format(total, e-s))"
   ]
  },
  {
   "cell_type": "code",
   "execution_count": 4,
   "metadata": {},
   "outputs": [],
   "source": [
    "# sum2(5, 3) == 5+6+7\n",
    "# sum2(5, 3//2)=sum2(5, 1)== 5\n",
    "# sum2(5+3//2, 3-3//2)=sum2(6, 2)==6+7\n",
    "def sum2(n0, n):\n",
    "    if n==1: return n0\n",
    "    return sum2(n0, n//2)+sum2(n0+n//2, n-n//2)"
   ]
  },
  {
   "cell_type": "code",
   "execution_count": 5,
   "metadata": {},
   "outputs": [
    {
     "name": "stdout",
     "output_type": "stream",
     "text": [
      "result: 50005000, time elapsed: 0.0029976367950439453\n"
     ]
    }
   ],
   "source": [
    "s = T()\n",
    "total = sum2(1, 10000)\n",
    "e = T()\n",
    "print('result: {}, time elapsed: {}'.format(total, e-s))"
   ]
  },
  {
   "cell_type": "code",
   "execution_count": 6,
   "metadata": {},
   "outputs": [],
   "source": [
    "def fib(n):\n",
    "    if n==0 or n==1: return n\n",
    "    return fib(n-1)+fib(n-2)"
   ]
  },
  {
   "cell_type": "code",
   "execution_count": 7,
   "metadata": {},
   "outputs": [
    {
     "name": "stdout",
     "output_type": "stream",
     "text": [
      "0 1 1 2 3 5 8 13 21 34 55 "
     ]
    }
   ],
   "source": [
    "for i in range(11):\n",
    "    print('{} '.format(fib(i)), end='')"
   ]
  },
  {
   "cell_type": "code",
   "execution_count": 11,
   "metadata": {},
   "outputs": [
    {
     "name": "stdout",
     "output_type": "stream",
     "text": [
      "result: 63245986, time elapsed: 18.771586179733276\n"
     ]
    }
   ],
   "source": [
    "s = T()\n",
    "total = fib(39)\n",
    "e = T()\n",
    "print('result: {}, time elapsed: {}'.format(total, e-s))"
   ]
  },
  {
   "cell_type": "code",
   "execution_count": 12,
   "metadata": {},
   "outputs": [],
   "source": [
    "# f(39)=f(37)+f(38)=f(36)+f(35)+f(37)+f(36) ... duplicated calculations\n",
    "rdt={'a':3, 7:11} # map key-value pair"
   ]
  },
  {
   "cell_type": "code",
   "execution_count": 15,
   "metadata": {},
   "outputs": [
    {
     "data": {
      "text/plain": [
       "True"
      ]
     },
     "execution_count": 15,
     "metadata": {},
     "output_type": "execute_result"
    }
   ],
   "source": [
    "'a' in rdt"
   ]
  },
  {
   "cell_type": "code",
   "execution_count": 16,
   "metadata": {},
   "outputs": [
    {
     "data": {
      "text/plain": [
       "True"
      ]
     },
     "execution_count": 16,
     "metadata": {},
     "output_type": "execute_result"
    }
   ],
   "source": [
    "7 in rdt"
   ]
  },
  {
   "cell_type": "code",
   "execution_count": 17,
   "metadata": {},
   "outputs": [
    {
     "data": {
      "text/plain": [
       "False"
      ]
     },
     "execution_count": 17,
     "metadata": {},
     "output_type": "execute_result"
    }
   ],
   "source": [
    "'b' in rdt"
   ]
  },
  {
   "cell_type": "code",
   "execution_count": 18,
   "metadata": {},
   "outputs": [
    {
     "data": {
      "text/plain": [
       "True"
      ]
     },
     "execution_count": 18,
     "metadata": {},
     "output_type": "execute_result"
    }
   ],
   "source": [
    "rdt['b']=-17\n",
    "'b' in rdt"
   ]
  },
  {
   "cell_type": "code",
   "execution_count": 19,
   "metadata": {},
   "outputs": [],
   "source": [
    "fib_dict=dict()\n",
    "def fib3(n):\n",
    "    if n==0 or n==1: return n\n",
    "    if n-1 in fib_dict:\n",
    "        n0 = fib_dict[n-1]\n",
    "    else:\n",
    "        n0 = fib3(n-1)\n",
    "        fib_dict[n-1]=n0\n",
    "        \n",
    "    if n-2 in fib_dict:\n",
    "        n1 = fib_dict[n-2]\n",
    "    else:\n",
    "        n1 = fib3(n-2)\n",
    "        fib_dict[n-2]=n1\n",
    "        \n",
    "    return n0+n1"
   ]
  },
  {
   "cell_type": "code",
   "execution_count": 22,
   "metadata": {},
   "outputs": [
    {
     "name": "stdout",
     "output_type": "stream",
     "text": [
      "result: 139423224561697880139724382870407283950070256587697307264108962948325571622863290691557658876222521294125, time elapsed: 0.0019774436950683594\n"
     ]
    }
   ],
   "source": [
    "s = T()\n",
    "total = fib3(500)\n",
    "e = T()\n",
    "print('result: {}, time elapsed: {}'.format(total, e-s))"
   ]
  },
  {
   "cell_type": "code",
   "execution_count": 45,
   "metadata": {},
   "outputs": [],
   "source": [
    "def mprint(lst, sp=''):\n",
    "    n = len(lst)    \n",
    "    return (('{}'+sp)*n).format(*list(lst))\n",
    "\n",
    "def _perm(a, b, k, m):\n",
    "    if k==m:\n",
    "        for i in range(len(b)):\n",
    "            a[k] = b[i]\n",
    "            print(mprint(a, ' '))\n",
    "    else:\n",
    "        for i in range(len(b)):\n",
    "            a[k] = b[i]\n",
    "            _perm(a, b, k+1, m)\n",
    "            "
   ]
  },
  {
   "cell_type": "code",
   "execution_count": 46,
   "metadata": {},
   "outputs": [],
   "source": [
    "# helper function\n",
    "def perm(a):\n",
    "    _perm(a, a[:], 0, len(a)-1)"
   ]
  },
  {
   "cell_type": "code",
   "execution_count": 47,
   "metadata": {},
   "outputs": [
    {
     "name": "stdout",
     "output_type": "stream",
     "text": [
      "a a \n",
      "a b \n",
      "b a \n",
      "b b \n"
     ]
    }
   ],
   "source": [
    "perm([chr(x) for x in range(ord('a'), ord('b')+1)])"
   ]
  },
  {
   "cell_type": "code",
   "execution_count": 36,
   "metadata": {},
   "outputs": [],
   "source": [
    "o=[1,2,3]"
   ]
  },
  {
   "cell_type": "code",
   "execution_count": 37,
   "metadata": {},
   "outputs": [],
   "source": [
    "p=o[:]"
   ]
  },
  {
   "cell_type": "code",
   "execution_count": 38,
   "metadata": {},
   "outputs": [],
   "source": [
    "o[0]=-7"
   ]
  },
  {
   "cell_type": "code",
   "execution_count": 39,
   "metadata": {},
   "outputs": [
    {
     "data": {
      "text/plain": [
       "[-7, 2, 3]"
      ]
     },
     "execution_count": 39,
     "metadata": {},
     "output_type": "execute_result"
    }
   ],
   "source": [
    "o"
   ]
  },
  {
   "cell_type": "code",
   "execution_count": 40,
   "metadata": {},
   "outputs": [
    {
     "data": {
      "text/plain": [
       "[1, 2, 3]"
      ]
     },
     "execution_count": 40,
     "metadata": {},
     "output_type": "execute_result"
    }
   ],
   "source": [
    "p"
   ]
  },
  {
   "cell_type": "code",
   "execution_count": 56,
   "metadata": {},
   "outputs": [],
   "source": [
    "def hanoi(n, src, aux, tar):\n",
    "    if n<=0: return 0\n",
    "    cnt=hanoi(n-1, src, tar, aux)\n",
    "    print('moving 1 disc from {} to {}'.format(src, tar))\n",
    "    cnt+=1\n",
    "    cnt+=hanoi(n-1, aux, src, tar)\n",
    "    return cnt"
   ]
  },
  {
   "cell_type": "code",
   "execution_count": 58,
   "metadata": {},
   "outputs": [
    {
     "name": "stdout",
     "output_type": "stream",
     "text": [
      "moving 1 disc from 來源 to 目的\n",
      "moving 1 disc from 來源 to 輔助\n",
      "moving 1 disc from 目的 to 輔助\n",
      "moving 1 disc from 來源 to 目的\n",
      "moving 1 disc from 輔助 to 來源\n",
      "moving 1 disc from 輔助 to 目的\n",
      "moving 1 disc from 來源 to 目的\n",
      "moving 1 disc from 來源 to 輔助\n",
      "moving 1 disc from 目的 to 輔助\n",
      "moving 1 disc from 目的 to 來源\n",
      "moving 1 disc from 輔助 to 來源\n",
      "moving 1 disc from 目的 to 輔助\n",
      "moving 1 disc from 來源 to 目的\n",
      "moving 1 disc from 來源 to 輔助\n",
      "moving 1 disc from 目的 to 輔助\n",
      "moving 1 disc from 來源 to 目的\n",
      "moving 1 disc from 輔助 to 來源\n",
      "moving 1 disc from 輔助 to 目的\n",
      "moving 1 disc from 來源 to 目的\n",
      "moving 1 disc from 輔助 to 來源\n",
      "moving 1 disc from 目的 to 輔助\n",
      "moving 1 disc from 目的 to 來源\n",
      "moving 1 disc from 輔助 to 來源\n",
      "moving 1 disc from 輔助 to 目的\n",
      "moving 1 disc from 來源 to 目的\n",
      "moving 1 disc from 來源 to 輔助\n",
      "moving 1 disc from 目的 to 輔助\n",
      "moving 1 disc from 來源 to 目的\n",
      "moving 1 disc from 輔助 to 來源\n",
      "moving 1 disc from 輔助 to 目的\n",
      "moving 1 disc from 來源 to 目的\n",
      "31\n"
     ]
    }
   ],
   "source": [
    "n=hanoi(5, '來源', '輔助', '目的')\n",
    "print(n)"
   ]
  },
  {
   "cell_type": "code",
   "execution_count": null,
   "metadata": {},
   "outputs": [],
   "source": []
  }
 ],
 "metadata": {
  "kernelspec": {
   "display_name": "Python 3",
   "language": "python",
   "name": "python3"
  },
  "language_info": {
   "codemirror_mode": {
    "name": "ipython",
    "version": 3
   },
   "file_extension": ".py",
   "mimetype": "text/x-python",
   "name": "python",
   "nbconvert_exporter": "python",
   "pygments_lexer": "ipython3",
   "version": "3.6.3"
  }
 },
 "nbformat": 4,
 "nbformat_minor": 2
}
